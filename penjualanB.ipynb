{
 "cells": [
  {
   "cell_type": "code",
   "execution_count": 49,
   "id": "af7ac36c-1749-4035-b037-67dc1af875fa",
   "metadata": {},
   "outputs": [],
   "source": [
    "import pandas as pd"
   ]
  },
  {
   "cell_type": "code",
   "execution_count": 50,
   "id": "9dc6488f-2b7c-4597-9950-244344f97034",
   "metadata": {},
   "outputs": [],
   "source": [
    "import math"
   ]
  },
  {
   "cell_type": "code",
   "execution_count": 51,
   "id": "534b17cf-a11b-4abc-a101-f3b19e3cf1bb",
   "metadata": {},
   "outputs": [],
   "source": [
    "import matplotlib.pyplot as plt"
   ]
  },
  {
   "cell_type": "code",
   "execution_count": 52,
   "id": "5e79693d-7ed7-4692-bc09-15fb586aaec1",
   "metadata": {},
   "outputs": [],
   "source": [
    "data = pd.read_excel('Dataset.xlsx')"
   ]
  },
  {
   "cell_type": "code",
   "execution_count": 53,
   "id": "c19098c5-00cc-47e8-b8cd-1fda900fbc94",
   "metadata": {},
   "outputs": [],
   "source": [
    "mean= data['Penjualan B (pcs)'].mean()\n",
    "median =  data['Penjualan B (pcs)'].median()\n",
    "modus =  data['Penjualan B (pcs)'].mode()"
   ]
  },
  {
   "cell_type": "code",
   "execution_count": 54,
   "id": "623af777-b140-495c-bc25-2125234d1888",
   "metadata": {},
   "outputs": [
    {
     "name": "stdout",
     "output_type": "stream",
     "text": [
      "mean: 205.54545454545453\n",
      "median:  157.0\n",
      "modus:  0    0\n",
      "Name: Penjualan B (pcs), dtype: int64\n"
     ]
    }
   ],
   "source": [
    "print(\"mean:\", mean)\n",
    "print(\"median: \", median)\n",
    "print(\"modus: \", modus)"
   ]
  },
  {
   "cell_type": "code",
   "execution_count": 89,
   "id": "10015669-40b0-4a7f-9797-649dcee54e77",
   "metadata": {},
   "outputs": [
    {
     "name": "stdout",
     "output_type": "stream",
     "text": [
      " 0 545\n"
     ]
    }
   ],
   "source": [
    "data_terkecil = data['Penjualan B (pcs)'].min()\n",
    "data_terbesar = data['Penjualan B (pcs)'].max()\n",
    "print(\"\", data_terkecil, data_terbesar)"
   ]
  },
  {
   "cell_type": "code",
   "execution_count": 56,
   "id": "475e7c54-b9a9-4c3f-89ab-435dfa56557b",
   "metadata": {},
   "outputs": [
    {
     "name": "stdout",
     "output_type": "stream",
     "text": [
      "0\n"
     ]
    }
   ],
   "source": [
    "print(data_terkecil)"
   ]
  },
  {
   "cell_type": "code",
   "execution_count": 57,
   "id": "0df35543-3eab-498b-92c9-e194af31cf22",
   "metadata": {},
   "outputs": [],
   "source": [
    "jangkauan = data['Penjualan B (pcs)'].max() - data['Penjualan B (pcs)'].min()"
   ]
  },
  {
   "cell_type": "code",
   "execution_count": 58,
   "id": "45cbda86-68ba-4a1d-add8-66c2a60ae3ce",
   "metadata": {},
   "outputs": [
    {
     "name": "stdout",
     "output_type": "stream",
     "text": [
      "545\n"
     ]
    }
   ],
   "source": [
    "print(jangkauan)"
   ]
  },
  {
   "cell_type": "code",
   "execution_count": 59,
   "id": "d84afe0f-f573-4603-ba99-856b917b094e",
   "metadata": {},
   "outputs": [],
   "source": [
    "Q1 = data['Penjualan B (pcs)'].quantile(0.25)"
   ]
  },
  {
   "cell_type": "code",
   "execution_count": 60,
   "id": "86690abd-2f9c-449f-b686-70a3cdbba5a2",
   "metadata": {},
   "outputs": [],
   "source": [
    "Q3 = data['Penjualan B (pcs)'].quantile(0.75)"
   ]
  },
  {
   "cell_type": "code",
   "execution_count": 61,
   "id": "ef58cc9e-b531-4793-b21b-97fea5b6421a",
   "metadata": {},
   "outputs": [],
   "source": [
    "IQR = Q3 - Q1"
   ]
  },
  {
   "cell_type": "code",
   "execution_count": 62,
   "id": "f91dbec1-9642-4f74-9299-aed7f00c9003",
   "metadata": {},
   "outputs": [
    {
     "name": "stdout",
     "output_type": "stream",
     "text": [
      "244.0\n"
     ]
    }
   ],
   "source": [
    "print(IQR)"
   ]
  },
  {
   "cell_type": "code",
   "execution_count": 63,
   "id": "992a679e-a12f-42e5-bdc9-848136878d37",
   "metadata": {},
   "outputs": [],
   "source": [
    "variance = data['Penjualan B (pcs)'].var()"
   ]
  },
  {
   "cell_type": "code",
   "execution_count": 90,
   "id": "67335fda-cfdd-4571-9df9-83e898d01aed",
   "metadata": {},
   "outputs": [
    {
     "name": "stdout",
     "output_type": "stream",
     "text": [
      " 160.0851336008438\n"
     ]
    }
   ],
   "source": [
    "standar_deviasi = data['Penjualan B (pcs)'].std()\n",
    "print(\"\", standar_deviasi)"
   ]
  },
  {
   "cell_type": "code",
   "execution_count": 65,
   "id": "9d30e9c3-2f38-4de6-b234-af0a510bf0ee",
   "metadata": {},
   "outputs": [],
   "source": [
    "skewness = data['Penjualan B (pcs)'].skew()"
   ]
  },
  {
   "cell_type": "code",
   "execution_count": 66,
   "id": "3dfe1788-d047-44a1-8815-81726d32bd49",
   "metadata": {},
   "outputs": [],
   "source": [
    "kurtosis = data['Penjualan B (pcs)'].kurt()"
   ]
  },
  {
   "cell_type": "code",
   "execution_count": 67,
   "id": "b752b33a-6c60-410c-bcc1-7f40a828a4b5",
   "metadata": {},
   "outputs": [],
   "source": [
    "#data visualization (tbf)"
   ]
  },
  {
   "cell_type": "code",
   "execution_count": 68,
   "id": "35e5ad57-2577-49a1-8123-dee49cf46c1f",
   "metadata": {},
   "outputs": [],
   "source": [
    "length = len(data['Penjualan B (pcs)'])"
   ]
  },
  {
   "cell_type": "code",
   "execution_count": 69,
   "id": "0b4a9b90-d638-4adb-8c34-3b853cd5e983",
   "metadata": {},
   "outputs": [
    {
     "name": "stdout",
     "output_type": "stream",
     "text": [
      "121\n"
     ]
    }
   ],
   "source": [
    "print(length)"
   ]
  },
  {
   "cell_type": "code",
   "execution_count": 70,
   "id": "637fe4b3-f48b-469e-b275-c7f65f1ee4a8",
   "metadata": {},
   "outputs": [],
   "source": [
    "kdata = math.ceil(1 + 3.3 * math.log(length, 10))"
   ]
  },
  {
   "cell_type": "code",
   "execution_count": 71,
   "id": "9af66153-6002-4078-b51e-6e033c017a9d",
   "metadata": {},
   "outputs": [],
   "source": [
    "k_b = kdata"
   ]
  },
  {
   "cell_type": "code",
   "execution_count": 72,
   "id": "1fcb5b86-e479-401f-97da-b1fd475338fc",
   "metadata": {},
   "outputs": [
    {
     "name": "stdout",
     "output_type": "stream",
     "text": [
      "8\n"
     ]
    }
   ],
   "source": [
    "print(k_b)"
   ]
  },
  {
   "cell_type": "code",
   "execution_count": 73,
   "id": "8304a66a-e250-42fd-bead-20b456e353f1",
   "metadata": {},
   "outputs": [],
   "source": [
    "interval = math.ceil(jangkauan / k_b)"
   ]
  },
  {
   "cell_type": "code",
   "execution_count": 74,
   "id": "8e914fba-4b59-46bf-85f1-73c17087c232",
   "metadata": {},
   "outputs": [
    {
     "name": "stdout",
     "output_type": "stream",
     "text": [
      "69\n"
     ]
    }
   ],
   "source": [
    "print(interval)"
   ]
  },
  {
   "cell_type": "code",
   "execution_count": 75,
   "id": "960fcd05-2305-4e37-b975-f248e9aaab02",
   "metadata": {},
   "outputs": [],
   "source": [
    "kelas = []"
   ]
  },
  {
   "cell_type": "code",
   "execution_count": 76,
   "id": "c2a1ea7e-4d6a-4fbf-a54a-4622bea91239",
   "metadata": {},
   "outputs": [],
   "source": [
    "tepi_kelas = []"
   ]
  },
  {
   "cell_type": "code",
   "execution_count": 77,
   "id": "e8a7e6d2-4180-4eb0-b4ce-f92107a4a1f7",
   "metadata": {},
   "outputs": [],
   "source": [
    "interval_kelas = []"
   ]
  },
  {
   "cell_type": "code",
   "execution_count": 78,
   "id": "162f99d2-71f2-4b93-84b9-bd6a085f5886",
   "metadata": {},
   "outputs": [
    {
     "name": "stdout",
     "output_type": "stream",
     "text": [
      "6. Kelas = [1, 2, 3, 4, 5, 6, 7, 8]\n",
      "6. Interval kelas = ['0-69', '69-138', '138-207', '207-276', '276-345', '345-414', '414-483', '483-552']\n",
      "6. Tepi kelas = [-0.5, 68.5, 137.5, 206.5, 275.5, 344.5, 413.5, 482.5, 552.5]\n"
     ]
    }
   ],
   "source": [
    "for i in range(k_b):\n",
    "    BAK = data_terkecil + i * interval\n",
    "    BBK = BAK + interval\n",
    "    tepi = BAK - 0.5\n",
    "    kelas.append(i + 1)\n",
    "    interval_kelas.append(str(BAK) + \"-\" + str(BBK))\n",
    "    tepi_kelas.append(tepi)\n",
    "tepi_kelas.append(BBK + 0.5)\n",
    "print(\"6. Kelas =\", kelas)\n",
    "print(\"6. Interval kelas =\", interval_kelas)\n",
    "print(\"6. Tepi kelas =\", tepi_kelas)"
   ]
  },
  {
   "cell_type": "code",
   "execution_count": 79,
   "id": "d5bfcc7a-f254-4948-8ba6-2b623f5b922c",
   "metadata": {},
   "outputs": [],
   "source": [
    "# Convert data into a pandas DataFrame\n",
    "df = pd.DataFrame(data, columns=[\"Penjualan B (pcs)\"])\n",
    "\n",
    "# Create frequency distribution using pd.cut and value_counts\n",
    "df[\"Range\"] = pd.cut(df[\"Penjualan B (pcs)\"], bins=tepi_kelas, labels=interval_kelas, include_lowest=True)\n",
    "frequency_table = df[\"Range\"].value_counts().sort_index()\n",
    "relative_frequency = frequency_table / frequency_table.sum() * 100\n",
    "\n",
    "# Convert to DataFrame for a cleaner look\n",
    "frequency_distribution = pd.DataFrame(\n",
    "    {\n",
    "        \"Kelas\": kelas,\n",
    "        \"Range\": frequency_table.index,\n",
    "        \"Frequency\": frequency_table.values,\n",
    "        \"Relative Frequency (%)\": relative_frequency,\n",
    "    }\n",
    ")\n",
    "frequency_distribution.reset_index(drop=True, inplace=True)\n"
   ]
  },
  {
   "cell_type": "code",
   "execution_count": 80,
   "id": "94502bf6-401f-4e4f-a300-2d8231378641",
   "metadata": {},
   "outputs": [
    {
     "name": "stdout",
     "output_type": "stream",
     "text": [
      "\n",
      "Table of Frequency Distribution\n",
      "   Kelas    Range  Frequency  Relative Frequency (%)\n",
      "0      1     0-69         28               23.140496\n",
      "1      2   69-138         25               20.661157\n",
      "2      3  138-207         18               14.876033\n",
      "3      4  207-276         14               11.570248\n",
      "4      5  276-345          7                5.785124\n",
      "5      6  345-414          8                6.611570\n",
      "6      7  414-483         10                8.264463\n",
      "7      8  483-552         11                9.090909\n"
     ]
    }
   ],
   "source": [
    "print(\"\\nTable of Frequency Distribution\")\n",
    "print(frequency_distribution)"
   ]
  },
  {
   "cell_type": "code",
   "execution_count": 81,
   "id": "7679226a-2d16-475c-995d-f06ce0a6b3b6",
   "metadata": {},
   "outputs": [
    {
     "data": {
      "image/png": "[encoded data removed]",
      "text/plain": [
       "<Figure size 1000x600 with 1 Axes>"
      ]
     },
     "metadata": {},
     "output_type": "display_data"
    }
   ],
   "source": [
    "plt.figure(figsize=(10, 6))\n",
    "plt.bar(\n",
    "    frequency_distribution[\"Range\"],\n",
    "    frequency_distribution[\"Frequency\"],\n",
    "    width=1,\n",
    "    edgecolor=\"black\",\n",
    "    color=\"skyblue\",\n",
    ")\n",
    "plt.title(\"Histogram of Frequency Distribution\")\n",
    "plt.xlabel(\"Range\")\n",
    "plt.ylabel(\"Frequency\")\n",
    "plt.xticks(rotation=45)\n",
    "plt.grid(axis=\"y\")\n",
    "\n",
    "# Show the plot\n",
    "plt.tight_layout()\n",
    "plt.show()"
   ]
  },
  {
   "cell_type": "code",
   "execution_count": 82,
   "id": "c50c5c75-9b9c-4a88-bec7-9a9d31ea0d44",
   "metadata": {},
   "outputs": [],
   "source": [
    "batas_bawah = Q1 - 1.5*IQR"
   ]
  },
  {
   "cell_type": "code",
   "execution_count": 83,
   "id": "a0635c07-7493-4dcd-be07-811154526fac",
   "metadata": {},
   "outputs": [],
   "source": [
    "batas_atas = Q3 + 1.5*IQR"
   ]
  },
  {
   "cell_type": "code",
   "execution_count": 84,
   "id": "08054347-263d-45c0-b295-0c8bfdda7607",
   "metadata": {},
   "outputs": [
    {
     "name": "stdout",
     "output_type": "stream",
     "text": [
      "-286.0\n"
     ]
    }
   ],
   "source": [
    "print(batas_bawah)"
   ]
  },
  {
   "cell_type": "code",
   "execution_count": 85,
   "id": "712413cf-5637-4a27-bfaa-6d2108493383",
   "metadata": {},
   "outputs": [
    {
     "name": "stdout",
     "output_type": "stream",
     "text": [
      "690.0\n"
     ]
    }
   ],
   "source": [
    "print(batas_atas)"
   ]
  },
  {
   "cell_type": "code",
   "execution_count": 86,
   "id": "0e213e93-bc20-4c19-acb9-842f401d019a",
   "metadata": {},
   "outputs": [],
   "source": [
    "#Dengan menggunakan metode IQR, dapat kita temukan outliernya. Diketahui IQR dari data penjualan B adalah 244\n",
    "#Dengan menggunakan IQR ditemukan batas bawah -286 dan batas atas 690, kita dapat menemukan outlier\n",
    "#Apabila ada suatu nilai di atas batas atas dan di bawah batas bawah, berarti nilai tersebut adalah outlier\n",
    "#Dari histogram di atas tidak ada data yang melebihi batas atas maupun batas bawah \n",
    "#yang mana berarti tidak ada outlier dalam data penjualan B"
   ]
  },
  {
   "cell_type": "code",
   "execution_count": 87,
   "id": "79bab0fc-3fbc-4e72-a620-5e0f341675be",
   "metadata": {},
   "outputs": [
    {
     "data": {
      "image/png": "[encoded data removed]",
      "text/plain": [
       "<Figure size 640x480 with 1 Axes>"
      ]
     },
     "metadata": {},
     "output_type": "display_data"
    }
   ],
   "source": [
    "midpoints = [\n",
    "    (tepi_kelas[i] + tepi_kelas[i + 1]) / 2 for i in range(len(tepi_kelas) - 1)\n",
    "]\n",
    "plt.plot(\n",
    "    midpoints,\n",
    "    frequency_table.values,\n",
    "    marker=\"o\",\n",
    "    color=\"blue\",\n",
    "    linestyle=\"-\",\n",
    "    linewidth=2,\n",
    "    label=\"Frequency Polygon\",\n",
    ")\n",
    "\n",
    "# Penambahan label dan grid\n",
    "plt.title(\"Histogram and Frequency Polygon\")\n",
    "plt.xlabel(\"Range\")\n",
    "plt.ylabel(\"Frequency\")\n",
    "plt.xticks(rotation=45)\n",
    "plt.grid(axis=\"y\")\n",
    "plt.legend()\n",
    "\n",
    "# Tampilkan plot\n",
    "plt.tight_layout()\n",
    "plt.show()\n",
    "\n"
   ]
  },
  {
   "cell_type": "code",
   "execution_count": 88,
   "id": "f025e153-bc75-4e93-bff8-3c0ad7f1b219",
   "metadata": {},
   "outputs": [
    {
     "data": {
      "image/png": "[encoded data removed]",
      "text/plain": [
       "<Figure size 640x480 with 1 Axes>"
      ]
     },
     "metadata": {},
     "output_type": "display_data"
    }
   ],
   "source": [
    "plt.boxplot(data['Penjualan B (pcs)'])\n",
    "plt.title('Boxplot Penjualan B (pcs)')  \n",
    "plt.ylabel('Jumlah Penjualan (pcs)')    \n",
    "plt.xticks([1], ['Penjualan B'])\n",
    "plt.show()                             "
   ]
  },
  {
   "cell_type": "code",
   "execution_count": null,
   "id": "87592854-4ac2-4382-9cd2-06fe6688b363",
   "metadata": {},
   "outputs": [],
   "source": []
  }
 ],
 "metadata": {
  "kernelspec": {
   "display_name": "Python 3 (ipykernel)",
   "language": "python",
   "name": "python3"
  },
  "language_info": {
   "codemirror_mode": {
    "name": "ipython",
    "version": 3
   },
   "file_extension": ".py",
   "mimetype": "text/x-python",
   "name": "python",
   "nbconvert_exporter": "python",
   "pygments_lexer": "ipython3",
   "version": "3.12.4"
  }
 },
 "nbformat": 4,
 "nbformat_minor": 5
}
