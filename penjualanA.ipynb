{
 "cells": [
  {
   "cell_type": "code",
   "execution_count": 1,
   "id": "8448fccf-176d-46be-baf9-ddefde51c7a3",
   "metadata": {},
   "outputs": [],
   "source": [
    "import pandas as pd"
   ]
  },
  {
   "cell_type": "code",
   "execution_count": 2,
   "id": "5b7b3e1a-0a22-4520-a96c-8388b54bc6cd",
   "metadata": {},
   "outputs": [],
   "source": [
    "import math"
   ]
  },
  {
   "cell_type": "code",
   "execution_count": 3,
   "id": "099eaa96-c1d3-49fc-8a62-b9c06e61e5c7",
   "metadata": {},
   "outputs": [],
   "source": [
    "import matplotlib.pyplot as plt"
   ]
  },
  {
   "cell_type": "code",
   "execution_count": 4,
   "id": "ba712c4d-1cb3-4d12-ae79-b4f1899afab3",
   "metadata": {},
   "outputs": [],
   "source": [
    "data = pd.read_excel('Dataset.xlsx')"
   ]
  },
  {
   "cell_type": "code",
   "execution_count": 5,
   "id": "0d225044-6a45-4317-85c1-a3381698a26b",
   "metadata": {},
   "outputs": [
    {
     "data": {
      "text/html": [
       "<div>\n",
       "<style scoped>\n",
       "    .dataframe tbody tr th:only-of-type {\n",
       "        vertical-align: middle;\n",
       "    }\n",
       "\n",
       "    .dataframe tbody tr th {\n",
       "        vertical-align: top;\n",
       "    }\n",
       "\n",
       "    .dataframe thead th {\n",
       "        text-align: right;\n",
       "    }\n",
       "</style>\n",
       "<table border=\"1\" class=\"dataframe\">\n",
       "  <thead>\n",
       "    <tr style=\"text-align: right;\">\n",
       "      <th></th>\n",
       "      <th>Tanggal</th>\n",
       "      <th>Curah Hujan (mm)</th>\n",
       "      <th>Penjualan A (pcs)</th>\n",
       "      <th>Penjualan B (pcs)</th>\n",
       "    </tr>\n",
       "  </thead>\n",
       "  <tbody>\n",
       "    <tr>\n",
       "      <th>0</th>\n",
       "      <td>1</td>\n",
       "      <td>1.4</td>\n",
       "      <td>0</td>\n",
       "      <td>507</td>\n",
       "    </tr>\n",
       "    <tr>\n",
       "      <th>1</th>\n",
       "      <td>2</td>\n",
       "      <td>1.2</td>\n",
       "      <td>27</td>\n",
       "      <td>61</td>\n",
       "    </tr>\n",
       "    <tr>\n",
       "      <th>2</th>\n",
       "      <td>3</td>\n",
       "      <td>15.2</td>\n",
       "      <td>458</td>\n",
       "      <td>367</td>\n",
       "    </tr>\n",
       "    <tr>\n",
       "      <th>3</th>\n",
       "      <td>4</td>\n",
       "      <td>13.4</td>\n",
       "      <td>20</td>\n",
       "      <td>21</td>\n",
       "    </tr>\n",
       "    <tr>\n",
       "      <th>4</th>\n",
       "      <td>5</td>\n",
       "      <td>7.7</td>\n",
       "      <td>7</td>\n",
       "      <td>0</td>\n",
       "    </tr>\n",
       "    <tr>\n",
       "      <th>...</th>\n",
       "      <td>...</td>\n",
       "      <td>...</td>\n",
       "      <td>...</td>\n",
       "      <td>...</td>\n",
       "    </tr>\n",
       "    <tr>\n",
       "      <th>116</th>\n",
       "      <td>4</td>\n",
       "      <td>2.2</td>\n",
       "      <td>430</td>\n",
       "      <td>421</td>\n",
       "    </tr>\n",
       "    <tr>\n",
       "      <th>117</th>\n",
       "      <td>5</td>\n",
       "      <td>0.5</td>\n",
       "      <td>208</td>\n",
       "      <td>24</td>\n",
       "    </tr>\n",
       "    <tr>\n",
       "      <th>118</th>\n",
       "      <td>6</td>\n",
       "      <td>33.4</td>\n",
       "      <td>200</td>\n",
       "      <td>189</td>\n",
       "    </tr>\n",
       "    <tr>\n",
       "      <th>119</th>\n",
       "      <td>7</td>\n",
       "      <td>0.0</td>\n",
       "      <td>0</td>\n",
       "      <td>324</td>\n",
       "    </tr>\n",
       "    <tr>\n",
       "      <th>120</th>\n",
       "      <td>8</td>\n",
       "      <td>0.0</td>\n",
       "      <td>143</td>\n",
       "      <td>315</td>\n",
       "    </tr>\n",
       "  </tbody>\n",
       "</table>\n",
       "<p>121 rows × 4 columns</p>\n",
       "</div>"
      ],
      "text/plain": [
       "     Tanggal  Curah Hujan (mm)  Penjualan A (pcs)  Penjualan B (pcs)\n",
       "0          1               1.4                  0                507\n",
       "1          2               1.2                 27                 61\n",
       "2          3              15.2                458                367\n",
       "3          4              13.4                 20                 21\n",
       "4          5               7.7                  7                  0\n",
       "..       ...               ...                ...                ...\n",
       "116        4               2.2                430                421\n",
       "117        5               0.5                208                 24\n",
       "118        6              33.4                200                189\n",
       "119        7               0.0                  0                324\n",
       "120        8               0.0                143                315\n",
       "\n",
       "[121 rows x 4 columns]"
      ]
     },
     "execution_count": 5,
     "metadata": {},
     "output_type": "execute_result"
    }
   ],
   "source": [
    "data"
   ]
  },
  {
   "cell_type": "code",
   "execution_count": 6,
   "id": "723a383e-e79e-4144-859a-7bedcfc34e61",
   "metadata": {},
   "outputs": [],
   "source": [
    "mean_A = data['Penjualan A (pcs)'].mean()"
   ]
  },
  {
   "cell_type": "code",
   "execution_count": 7,
   "id": "140ce999-75fd-4cb1-9fa8-683a3225a75f",
   "metadata": {},
   "outputs": [
    {
     "name": "stdout",
     "output_type": "stream",
     "text": [
      "Mean of the column: 131.83471074380165\n"
     ]
    }
   ],
   "source": [
    "print(\"Mean of the column:\", mean_A)"
   ]
  },
  {
   "cell_type": "code",
   "execution_count": 8,
   "id": "28ded851-4697-40ef-8b41-f7c70975f820",
   "metadata": {},
   "outputs": [],
   "source": [
    "median_a =  data['Penjualan A (pcs)'].median()"
   ]
  },
  {
   "cell_type": "code",
   "execution_count": 9,
   "id": "fb8785c9-e19f-4560-99b3-186e0a0fa38f",
   "metadata": {},
   "outputs": [
    {
     "name": "stdout",
     "output_type": "stream",
     "text": [
      "median of the column: 52.0\n"
     ]
    }
   ],
   "source": [
    "print(\"median of the column:\", median_a)"
   ]
  },
  {
   "cell_type": "code",
   "execution_count": 10,
   "id": "0b2d6e45-dfc4-4e2c-b00c-7821f0b543bd",
   "metadata": {},
   "outputs": [],
   "source": [
    "modus_a =  data['Penjualan A (pcs)'].mode()"
   ]
  },
  {
   "cell_type": "code",
   "execution_count": 48,
   "id": "773a6dfb-a778-4a52-9fb3-e6523dea3a4f",
   "metadata": {},
   "outputs": [
    {
     "name": "stdout",
     "output_type": "stream",
     "text": [
      "modus: 0    0\n",
      "Name: Penjualan A (pcs), dtype: int64\n"
     ]
    }
   ],
   "source": [
    "print(\"modus:\", modus_a)"
   ]
  },
  {
   "cell_type": "code",
   "execution_count": 49,
   "id": "df780382-8ea4-4b3b-8356-80d48340c9fd",
   "metadata": {},
   "outputs": [],
   "source": [
    "max_a = data['Penjualan A (pcs)'].max()"
   ]
  },
  {
   "cell_type": "code",
   "execution_count": 12,
   "id": "0705c152-746f-49e3-994f-7f14ac5e1717",
   "metadata": {},
   "outputs": [],
   "source": [
    "min_a = data['Penjualan A (pcs)'].min()"
   ]
  },
  {
   "cell_type": "code",
   "execution_count": 50,
   "id": "e170277e-2ee5-4f31-80e1-96e76b2ab454",
   "metadata": {},
   "outputs": [
    {
     "name": "stdout",
     "output_type": "stream",
     "text": [
      "mm 458 0\n"
     ]
    }
   ],
   "source": [
    "print(\"mm\", max_a, min_a)"
   ]
  },
  {
   "cell_type": "code",
   "execution_count": 13,
   "id": "e222a398-dbb3-4aae-b27d-fee678b64ec3",
   "metadata": {},
   "outputs": [],
   "source": [
    "range_a = data['Penjualan A (pcs)'].max() - data['Penjualan A (pcs)'].min()"
   ]
  },
  {
   "cell_type": "code",
   "execution_count": 14,
   "id": "22b97b7f-ac8b-4e1e-beca-3e776d14a9f7",
   "metadata": {},
   "outputs": [],
   "source": [
    "Q1a = data['Penjualan A (pcs)'].quantile(0.25)"
   ]
  },
  {
   "cell_type": "code",
   "execution_count": 15,
   "id": "d4606203-5685-4e78-bb62-d1bd4d182171",
   "metadata": {},
   "outputs": [],
   "source": [
    "Q3a = data['Penjualan A (pcs)'].quantile(0.75)"
   ]
  },
  {
   "cell_type": "code",
   "execution_count": 16,
   "id": "7ce77cc3-28be-4629-a0c3-9016305fbf97",
   "metadata": {},
   "outputs": [],
   "source": [
    "IQR = Q3a - Q1a"
   ]
  },
  {
   "cell_type": "code",
   "execution_count": 17,
   "id": "91de0677-cb82-47cd-996a-17dbbc5e01d0",
   "metadata": {},
   "outputs": [
    {
     "name": "stdout",
     "output_type": "stream",
     "text": [
      "233.0\n"
     ]
    }
   ],
   "source": [
    "print(IQR)"
   ]
  },
  {
   "cell_type": "code",
   "execution_count": 18,
   "id": "3ef846dd-bfad-4dc9-8bd8-fd7ce2a8c8e5",
   "metadata": {},
   "outputs": [],
   "source": [
    "variance_a = data['Penjualan A (pcs)'].var()"
   ]
  },
  {
   "cell_type": "code",
   "execution_count": 19,
   "id": "d3fd165e-2dfd-4edd-8e33-303f0ae2ea8d",
   "metadata": {},
   "outputs": [],
   "source": [
    "variance_b = data['Penjualan B (pcs)'].var()"
   ]
  },
  {
   "cell_type": "code",
   "execution_count": 51,
   "id": "8ac07447-db35-4488-b906-085bb8896d2f",
   "metadata": {},
   "outputs": [
    {
     "name": "stdout",
     "output_type": "stream",
     "text": [
      " 141.59686596740283\n"
     ]
    }
   ],
   "source": [
    "standar_deviasi_a = data['Penjualan A (pcs)'].std()\n",
    "print(\"\", standar_deviasi_a)"
   ]
  },
  {
   "cell_type": "code",
   "execution_count": 21,
   "id": "4782b777-53e6-4dc8-b770-719ef09082f2",
   "metadata": {},
   "outputs": [],
   "source": [
    "standar_deviasi_b = data['Penjualan B (pcs)'].std()"
   ]
  },
  {
   "cell_type": "code",
   "execution_count": 22,
   "id": "943acabe-46fb-45d3-ac3b-f2d8bff5393e",
   "metadata": {},
   "outputs": [],
   "source": [
    "skewness_a = data['Penjualan A (pcs)'].skew()"
   ]
  },
  {
   "cell_type": "code",
   "execution_count": 23,
   "id": "42d76a1d-5d7f-4de7-9e3c-dc6f62fa5500",
   "metadata": {},
   "outputs": [],
   "source": [
    "skewness_b = data['Penjualan B (pcs)'].skew()"
   ]
  },
  {
   "cell_type": "code",
   "execution_count": 24,
   "id": "3844a815-571c-4e8f-83c8-b9668691a7d8",
   "metadata": {},
   "outputs": [],
   "source": [
    "kurtosis_a = data['Penjualan A (pcs)'].kurt()"
   ]
  },
  {
   "cell_type": "code",
   "execution_count": 25,
   "id": "a8f6de15-c700-40ea-8e29-e1d92d02fa5b",
   "metadata": {},
   "outputs": [],
   "source": [
    "kurtosis_b = data['Penjualan B (pcs)'].kurt()"
   ]
  },
  {
   "cell_type": "code",
   "execution_count": 26,
   "id": "6ac4bd16-ac26-47cb-bd6d-787c52b3d2fa",
   "metadata": {},
   "outputs": [
    {
     "name": "stdout",
     "output_type": "stream",
     "text": [
      "-0.8155134941435849\n"
     ]
    }
   ],
   "source": [
    "print(kurtosis_b)"
   ]
  },
  {
   "cell_type": "code",
   "execution_count": 27,
   "id": "6c2226f0-dba9-4cca-b4af-5ba1a11cad72",
   "metadata": {},
   "outputs": [],
   "source": [
    "#Data Visualization"
   ]
  },
  {
   "cell_type": "code",
   "execution_count": 28,
   "id": "3c2bf825-d103-46e7-beee-6b3ff2e360ed",
   "metadata": {},
   "outputs": [],
   "source": [
    "# Frequency Distribution Table (tabel penjualan A)"
   ]
  },
  {
   "cell_type": "code",
   "execution_count": 29,
   "id": "c98918e7-6975-4875-a9de-3cc76f959668",
   "metadata": {},
   "outputs": [],
   "source": [
    "data_length_a = len(data['Penjualan A (pcs)'])"
   ]
  },
  {
   "cell_type": "code",
   "execution_count": 30,
   "id": "c8f2b83a-f0b2-4bb3-946f-6c414178125b",
   "metadata": {},
   "outputs": [],
   "source": [
    "k_a = math.ceil(1 + 3.3 * math.log(data_length_a, 10))"
   ]
  },
  {
   "cell_type": "code",
   "execution_count": 31,
   "id": "55b68461-d5d8-46be-9142-f1478d2617ba",
   "metadata": {},
   "outputs": [
    {
     "name": "stdout",
     "output_type": "stream",
     "text": [
      "8\n"
     ]
    }
   ],
   "source": [
    "print(k_a)"
   ]
  },
  {
   "cell_type": "code",
   "execution_count": 32,
   "id": "c564d7a6-66cf-4e71-8091-6b8cdb9082d6",
   "metadata": {},
   "outputs": [],
   "source": [
    "interval = math.ceil(range_a / k_a)"
   ]
  },
  {
   "cell_type": "code",
   "execution_count": 33,
   "id": "fbb000d7-f2a3-4f8e-838a-40daf7482ff5",
   "metadata": {},
   "outputs": [
    {
     "name": "stdout",
     "output_type": "stream",
     "text": [
      "58\n"
     ]
    }
   ],
   "source": [
    "print(interval)"
   ]
  },
  {
   "cell_type": "code",
   "execution_count": 34,
   "id": "edef1804-bc5a-461a-9840-01d63b5a30a8",
   "metadata": {},
   "outputs": [],
   "source": [
    "kelas = []"
   ]
  },
  {
   "cell_type": "code",
   "execution_count": 35,
   "id": "94e4e6fa-e5cf-456e-8ae7-835bc358afaa",
   "metadata": {},
   "outputs": [],
   "source": [
    "tepi_kelas = []"
   ]
  },
  {
   "cell_type": "code",
   "execution_count": 36,
   "id": "67399cb4-0234-4f14-b95b-b9657fb6e5c2",
   "metadata": {},
   "outputs": [],
   "source": [
    "interval_kelas = []"
   ]
  },
  {
   "cell_type": "code",
   "execution_count": 37,
   "id": "c61ad0ee-d696-41d0-8de1-91e93229afea",
   "metadata": {},
   "outputs": [
    {
     "name": "stdout",
     "output_type": "stream",
     "text": [
      "6. Kelas = [1, 2, 3, 4, 5, 6, 7, 8]\n",
      "6. Interval kelas = ['0-58', '58-116', '116-174', '174-232', '232-290', '290-348', '348-406', '406-464']\n",
      "6. Tepi kelas = [-0.5, 57.5, 115.5, 173.5, 231.5, 289.5, 347.5, 405.5, 464.5]\n"
     ]
    }
   ],
   "source": [
    "for i in range(k_a):\n",
    "    BAK = min_a + i * interval\n",
    "    BBK = BAK + interval\n",
    "    tepi = BAK - 0.5\n",
    "    kelas.append(i + 1)\n",
    "    interval_kelas.append(str(BAK) + \"-\" + str(BBK))\n",
    "    tepi_kelas.append(tepi)\n",
    "tepi_kelas.append(BBK + 0.5)\n",
    "print(\"6. Kelas =\", kelas)\n",
    "print(\"6. Interval kelas =\", interval_kelas)\n",
    "print(\"6. Tepi kelas =\", tepi_kelas)"
   ]
  },
  {
   "cell_type": "code",
   "execution_count": 38,
   "id": "239cf997-6ad0-4d9c-8ac8-ae403c81feef",
   "metadata": {},
   "outputs": [],
   "source": [
    "# Convert data into a pandas DataFrame\n",
    "df = pd.DataFrame(data, columns=[\"Penjualan A (pcs)\"])\n",
    "\n",
    "# Create frequency distribution using pd.cut and value_counts\n",
    "df[\"Range\"] = pd.cut(df[\"Penjualan A (pcs)\"], bins=tepi_kelas, labels=interval_kelas, include_lowest=True)\n",
    "frequency_table = df[\"Range\"].value_counts().sort_index()\n",
    "relative_frequency = frequency_table / frequency_table.sum() * 100\n",
    "\n",
    "# Convert to DataFrame for a cleaner look\n",
    "frequency_distribution = pd.DataFrame(\n",
    "    {\n",
    "        \"Kelas\": kelas,\n",
    "        \"Range\": frequency_table.index,\n",
    "        \"Frequency\": frequency_table.values,\n",
    "        \"Relative Frequency (%)\": relative_frequency,\n",
    "    }\n",
    ")\n",
    "frequency_distribution.reset_index(drop=True, inplace=True)\n"
   ]
  },
  {
   "cell_type": "code",
   "execution_count": 39,
   "id": "782b8f4a-808f-4d4c-8af8-52a97c97c64d",
   "metadata": {},
   "outputs": [
    {
     "name": "stdout",
     "output_type": "stream",
     "text": [
      "\n",
      "Table of Frequency Distribution\n",
      "   Kelas    Range  Frequency  Relative Frequency (%)\n",
      "0      1     0-58         61               50.413223\n",
      "1      2   58-116          3                2.479339\n",
      "2      3  116-174         10                8.264463\n",
      "3      4  174-232         16               13.223140\n",
      "4      5  232-290          7                5.785124\n",
      "5      6  290-348          9                7.438017\n",
      "6      7  348-406          8                6.611570\n",
      "7      8  406-464          7                5.785124\n"
     ]
    }
   ],
   "source": [
    "print(\"\\nTable of Frequency Distribution\")\n",
    "print(frequency_distribution)"
   ]
  },
  {
   "cell_type": "code",
   "execution_count": 40,
   "id": "86bbbd37-588b-4157-b97c-dda4aa869995",
   "metadata": {},
   "outputs": [
    {
     "data": {
      "image/png": "[encoded data removed]",
      "text/plain": [
       "<Figure size 1000x600 with 1 Axes>"
      ]
     },
     "metadata": {},
     "output_type": "display_data"
    }
   ],
   "source": [
    "plt.figure(figsize=(10, 6))\n",
    "plt.bar(\n",
    "    frequency_distribution[\"Range\"],\n",
    "    frequency_distribution[\"Frequency\"],\n",
    "    width=1,\n",
    "    edgecolor=\"black\",\n",
    "    color=\"skyblue\",\n",
    ")\n",
    "\n",
    "plt.title(\"Histogram of Frequency Distribution\")\n",
    "plt.xlabel(\"Range\")\n",
    "plt.ylabel(\"Frequency\")\n",
    "plt.xticks(rotation=45)\n",
    "plt.grid(axis=\"y\")\n",
    "\n",
    "# Show the plot\n",
    "plt.tight_layout()\n",
    "plt.show()"
   ]
  },
  {
   "cell_type": "code",
   "execution_count": 41,
   "id": "109d8ff6-52ae-4bc9-a0d2-9c22487d52a4",
   "metadata": {},
   "outputs": [],
   "source": [
    "batas_bawah = Q1a - 1.5*IQR"
   ]
  },
  {
   "cell_type": "code",
   "execution_count": 42,
   "id": "1f14933c-f5c2-4379-a900-ac090ac9562b",
   "metadata": {},
   "outputs": [
    {
     "name": "stdout",
     "output_type": "stream",
     "text": [
      "-344.5\n"
     ]
    }
   ],
   "source": [
    "print(batas_bawah)"
   ]
  },
  {
   "cell_type": "code",
   "execution_count": 43,
   "id": "9e3bb0d8-a9ff-46ab-be2b-1cdc39fcf3a8",
   "metadata": {},
   "outputs": [
    {
     "name": "stdout",
     "output_type": "stream",
     "text": [
      "587.5\n"
     ]
    }
   ],
   "source": [
    "batas_atas = Q3a + 1.5*IQR\n",
    "print(batas_atas)"
   ]
  },
  {
   "cell_type": "code",
   "execution_count": 44,
   "id": "a8fe38c4-811a-4e19-b0d7-9b8713a88302",
   "metadata": {},
   "outputs": [],
   "source": [
    "#Dengan menggunakan metode IQR, dapat kita temukan outliernya. Diketahui IQR dari data penjualan A adalah 233\n",
    "#Dengan menggunakan IQR ditemukan batas bawah --344.5 dan batas atas 587.5, kita dapat menemukan outlier\n",
    "#Apabila ada suatu nilai di atas batas atas dan di bawah batas bawah, berarti nilai tersebut adalah outlier\n",
    "#Dari histogram di atas tidak ada data yang melebihi batas atas maupun batas bawah \n",
    "#yang mana berarti tidak ada outlier dalam data penjualan A"
   ]
  },
  {
   "cell_type": "code",
   "execution_count": 45,
   "id": "4f9e133a-9a71-48b8-83d6-5592c6101707",
   "metadata": {},
   "outputs": [
    {
     "data": {
      "image/png": "[encoded data removed]",
      "text/plain": [
       "<Figure size 640x480 with 1 Axes>"
      ]
     },
     "metadata": {},
     "output_type": "display_data"
    }
   ],
   "source": [
    "midpoints = [\n",
    "    (tepi_kelas[i] + tepi_kelas[i + 1]) / 2 for i in range(len(tepi_kelas) - 1)\n",
    "]\n",
    "plt.plot(\n",
    "    midpoints,\n",
    "    frequency_table.values,\n",
    "    marker=\"o\",\n",
    "    color=\"blue\",\n",
    "    linestyle=\"-\",\n",
    "    linewidth=2,\n",
    "    label=\"Frequency Polygon\",\n",
    ")\n",
    "\n",
    "# Penambahan label dan grid\n",
    "plt.title(\"Histogram and Frequency Polygon\")\n",
    "plt.xlabel(\"Range\")\n",
    "plt.ylabel(\"Frequency\")\n",
    "plt.xticks(rotation=45)\n",
    "plt.grid(axis=\"y\")\n",
    "plt.legend()\n",
    "\n",
    "# Tampilkan plot\n",
    "plt.tight_layout()\n",
    "plt.show()\n",
    "\n"
   ]
  },
  {
   "cell_type": "code",
   "execution_count": null,
   "id": "c895ca3f-2caa-4309-8e85-29ffc8d673fd",
   "metadata": {},
   "outputs": [],
   "source": []
  },
  {
   "cell_type": "code",
   "execution_count": 46,
   "id": "d943f529-47c7-4c7a-8465-966e528fbd2d",
   "metadata": {},
   "outputs": [
    {
     "data": {
      "image/png": "[encoded data removed]",
      "text/plain": [
       "<Figure size 640x480 with 1 Axes>"
      ]
     },
     "metadata": {},
     "output_type": "display_data"
    }
   ],
   "source": [
    "plt.boxplot(data['Penjualan A (pcs)'])\n",
    "plt.title('Boxplot Penjualan A (pcs)')  \n",
    "plt.ylabel('Jumlah Penjualan (pcs)')    \n",
    "plt.xticks([1], ['Penjualan A'])\n",
    "plt.show()         "
   ]
  },
  {
   "cell_type": "code",
   "execution_count": null,
   "id": "92995a3c-f6dc-41e0-8ddc-904ccf1ef65f",
   "metadata": {},
   "outputs": [],
   "source": []
  }
 ],
 "metadata": {
  "kernelspec": {
   "display_name": "Python 3 (ipykernel)",
   "language": "python",
   "name": "python3"
  },
  "language_info": {
   "codemirror_mode": {
    "name": "ipython",
    "version": 3
   },
   "file_extension": ".py",
   "mimetype": "text/x-python",
   "name": "python",
   "nbconvert_exporter": "python",
   "pygments_lexer": "ipython3",
   "version": "3.12.4"
  }
 },
 "nbformat": 4,
 "nbformat_minor": 5
}
